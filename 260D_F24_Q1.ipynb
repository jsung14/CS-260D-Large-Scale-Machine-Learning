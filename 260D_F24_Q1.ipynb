{
  "nbformat": 4,
  "nbformat_minor": 0,
  "metadata": {
    "colab": {
      "provenance": [],
      "include_colab_link": true
    },
    "kernelspec": {
      "name": "python3",
      "display_name": "Python 3"
    },
    "language_info": {
      "name": "python"
    }
  },
  "cells": [
    {
      "cell_type": "markdown",
      "metadata": {
        "id": "view-in-github",
        "colab_type": "text"
      },
      "source": [
        "<a href=\"https://colab.research.google.com/github/jsung14/CS-260D-Large-Scale-Machine-Learning/blob/main/260D_F24_Q1.ipynb\" target=\"_parent\"><img src=\"https://colab.research.google.com/assets/colab-badge.svg\" alt=\"Open In Colab\"/></a>"
      ]
    },
    {
      "cell_type": "code",
      "execution_count": null,
      "metadata": {
        "id": "yAc7_SJzx_cb"
      },
      "outputs": [],
      "source": [
        "import matplotlib.pyplot as plt\n",
        "import numpy as np\n",
        "import math\n",
        "import random"
      ]
    },
    {
      "cell_type": "code",
      "source": [
        "def set_seed(seed=2):\n",
        "    np.random.seed(seed)\n",
        "    random.seed(seed)"
      ],
      "metadata": {
        "id": "OUTsv5EVISm0"
      },
      "execution_count": null,
      "outputs": []
    },
    {
      "cell_type": "code",
      "source": [
        "def get_data():\n",
        "\n",
        "    set_seed()\n",
        "\n",
        "    X = np.random.uniform(-1, 1, size=(N, D))\n",
        "    w = np.random.uniform(-1, 1, size=D)\n",
        "    y = np.matmul(X, w) + np.random.normal(size=N)\n",
        "    return w, X, y"
      ],
      "metadata": {
        "id": "Z49-0HDSyQl8"
      },
      "execution_count": null,
      "outputs": []
    },
    {
      "cell_type": "code",
      "source": [
        "def gradient(w, x_i, y_i):\n",
        "    return 2*(np.dot(w, x_i) - y_i)*x_i\n",
        "\n",
        "def get_loss(w, X, y):\n",
        "    return np.sum((np.matmul(X, w) - y)**2)"
      ],
      "metadata": {
        "id": "WIDHpZIIycW-"
      },
      "execution_count": null,
      "outputs": []
    },
    {
      "cell_type": "code",
      "source": [
        "def sgd(w_0, X, y):\n",
        "\n",
        "    set_seed()\n",
        "\n",
        "    w = w_0\n",
        "    k = 0\n",
        "    losses = [get_loss(w, X, y)]\n",
        "    for s in range(NUM_EPOCHS):\n",
        "        for t in range(N):\n",
        "            idx = np.random.choice(N)\n",
        "            w = w - lr/np.sqrt(k + 1)*gradient(w, X[idx], y[idx])\n",
        "            #w = w - lr*gradient(w, X[idx], y[idx])\n",
        "            losses.append(get_loss(w, X, y))\n",
        "            k += 1\n",
        "    return losses, w"
      ],
      "metadata": {
        "id": "ihgvQ_0CyT_B"
      },
      "execution_count": null,
      "outputs": []
    },
    {
      "cell_type": "code",
      "source": [
        "def sgd_shuffle(w_0, X, y):\n",
        "\n",
        "    set_seed()\n",
        "\n",
        "    w = w_0\n",
        "    losses = [get_loss(w, X, y)]\n",
        "    k = 0\n",
        "    for s in range(NUM_EPOCHS):\n",
        "        ndx = list(range(N))\n",
        "        random.shuffle(ndx)\n",
        "        # ... fill here; don't introduce any randomness in your code\n",
        "    return losses, w"
      ],
      "metadata": {
        "id": "lRuNk7r-MmuB"
      },
      "execution_count": null,
      "outputs": []
    },
    {
      "cell_type": "code",
      "source": [
        "def sgd_momentum(w_0, X, y, beta=0.5):\n",
        "\n",
        "    set_seed()\n",
        "\n",
        "    w = w_0\n",
        "    delta_w = np.zeros_like(w)  # Initialize delta_w to zero\n",
        "    k = 0\n",
        "    losses = [get_loss(w, X, y)]\n",
        "\n",
        "    for s in range(NUM_EPOCHS):\n",
        "        ndx = list(range(N))\n",
        "        random.shuffle(ndx)\n",
        "        # ... fill here; don't introduce any randomness in your code\n",
        "    return losses, w"
      ],
      "metadata": {
        "id": "_bV7WWW8yfV-"
      },
      "execution_count": null,
      "outputs": []
    },
    {
      "cell_type": "code",
      "source": [
        "def plot(loss):\n",
        "    for name, loss_val in loss.items():\n",
        "        plt.plot(np.arange(len(loss_val)), loss_val, label=name)\n",
        "    plt.legend()\n",
        "    plt.savefig('loss.png')\n",
        "\n",
        "def main():\n",
        "    w_0, X, y = get_data()\n",
        "    loss = {}\n",
        "    loss['SGD'], w_sgd = sgd(w_0, X, y)\n",
        "    loss['SGD-shuffle'], w_sgd_shuffle = sgd_shuffle(w_0, X, y)\n",
        "    loss['SGD-momentum'], w_sgd_momentum = sgd_momentum(w_0, X, y)\n",
        "    plot(loss)\n",
        "    plt.show()"
      ],
      "metadata": {
        "id": "LvB8nvJ7yl8t"
      },
      "execution_count": null,
      "outputs": []
    },
    {
      "cell_type": "code",
      "source": [
        "D = 10\n",
        "N = 300\n",
        "lr = 0.001\n",
        "NUM_EPOCHS = 5\n",
        "\n",
        "main()"
      ],
      "metadata": {
        "id": "vIEoUuYHy0A-"
      },
      "execution_count": null,
      "outputs": []
    }
  ]
}